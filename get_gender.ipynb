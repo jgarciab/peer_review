{
 "cells": [
  {
   "cell_type": "code",
   "execution_count": null,
   "metadata": {},
   "outputs": [],
   "source": [
    "import pandas as pd\n",
    "import time\n",
    "import requests\n",
    "import json"
   ]
  },
  {
   "cell_type": "code",
   "execution_count": 4,
   "metadata": {},
   "outputs": [],
   "source": [
    "def get_gender(name):\n",
    "    last,first,*_ = name.split(\" ::: \")\n",
    "    path = \"http://abel.lis.illinois.edu/cgi-bin/ethnea/search.py?Fname={0}&Lname={1}&format=json\".format(first, last)\n",
    "    r = requests.get(path)\n",
    "    text = r.text.strip().replace('\\'', '\"')\n",
    "    x = json.loads(text)\n",
    "    gender,ethnic = x['Genni'],x[\"Ethnea\"]\n",
    "    \n",
    "    #for testing\n",
    "    #print(\"{0} {1}\".format(first,last), end=\" --> \")\n",
    "    #print(\"empirical: {0}\".format(empirical))\n",
    "    \n",
    "    return gender,ethnic"
   ]
  },
  {
   "cell_type": "code",
   "execution_count": 5,
   "metadata": {},
   "outputs": [],
   "source": [
    "def gender_main(names,fname):\n",
    "    i = 0\n",
    "    with open(fname,\"a+\") as f:\n",
    "        for name in names:\n",
    "            i += 1\n",
    "            if ((i%1000) == 0):\n",
    "                print(\"{:2.2f}\".format(i/len(names)*100),end = \"-\")\n",
    "                \n",
    "            try:\n",
    "                gen,eth = get_gender(name)\n",
    "            except:\n",
    "                print(name)\n",
    "            f.write(\"{}\\t{}\\t{}\\n\".format(name,gen,eth))\n",
    "\n",
    "                \n"
   ]
  },
  {
   "cell_type": "code",
   "execution_count": 6,
   "metadata": {},
   "outputs": [],
   "source": [
    "authors = pd.read_csv(\"./data/authors.tsv\",sep=\"\\t\")\n",
    "authors = authors.loc[authors[\"corr\"]==1]"
   ]
  },
  {
   "cell_type": "code",
   "execution_count": 7,
   "metadata": {},
   "outputs": [],
   "source": [
    "#read editor gender\n",
    "editors = set(pd.read_csv(\"data/editors_gender.tsv\",sep=\"\\t\")[\"name\"])\n",
    "#read gender_corr\n",
    "ethnicity = set(pd.read_csv(\"data/gender_corr.tsv\",sep=\"\\t\",header=None,names=[\"name\",\"gender\",\"eth\"])[\"name\"])\n",
    "#Get rest of names\n",
    "already_names = editors | ethnicity\n",
    "\n",
    "unique_names = list(set(authors[\"name\"]) - already_names)"
   ]
  },
  {
   "cell_type": "code",
   "execution_count": null,
   "metadata": {},
   "outputs": [],
   "source": [
    "gender_main(unique_names,\"./data/gender_corr.tsv\")"
   ]
  },
  {
   "cell_type": "code",
   "execution_count": null,
   "metadata": {},
   "outputs": [],
   "source": []
  }
 ],
 "metadata": {
  "anaconda-cloud": {},
  "kernelspec": {
   "display_name": "Python [conda env:anaconda3]",
   "language": "python",
   "name": "conda-env-anaconda3-py"
  },
  "language_info": {
   "codemirror_mode": {
    "name": "ipython",
    "version": 3
   },
   "file_extension": ".py",
   "mimetype": "text/x-python",
   "name": "python",
   "nbconvert_exporter": "python",
   "pygments_lexer": "ipython3",
   "version": "3.5.4"
  }
 },
 "nbformat": 4,
 "nbformat_minor": 1
}
