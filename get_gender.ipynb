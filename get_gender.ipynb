{
 "cells": [
  {
   "cell_type": "code",
   "execution_count": 1,
   "metadata": {},
   "outputs": [],
   "source": [
    "import pandas as pd\n",
    "import time\n",
    "import requests\n",
    "import json"
   ]
  },
  {
   "cell_type": "code",
   "execution_count": 2,
   "metadata": {},
   "outputs": [],
   "source": [
    "def get_gender(name):\n",
    "    last,first,*_ = name.split(\" ::: \")\n",
    "    path = \"http://abel.lis.illinois.edu/cgi-bin/ethnea/search.py?Fname={0}&Lname={1}&format=json\".format(first, last)\n",
    "    r = requests.get(path)\n",
    "    text = r.text.strip().replace('\\'', '\"')\n",
    "    x = json.loads(text)\n",
    "    gender,ethnic = x['Genni'],x[\"Ethnea\"]\n",
    "    \n",
    "    #for testing\n",
    "    #print(\"{0} {1}\".format(first,last), end=\" --> \")\n",
    "    #print(\"empirical: {0}\".format(empirical))\n",
    "    \n",
    "    return gender,ethnic"
   ]
  },
  {
   "cell_type": "code",
   "execution_count": 7,
   "metadata": {},
   "outputs": [],
   "source": [
    "def gender_main(df,fname):\n",
    "    with open(fname,\"a+\") as f:\n",
    "        unique_names = df[\"name\"].unique()\n",
    "        for i,name in enumerate(unique_names):\n",
    "            if isinstance(name,float):\n",
    "                continue\n",
    "            if ((i%1000) == 0):\n",
    "                print(\"{:2.2f}\".format(i/len(unique_names)*100),end = \"-\")\n",
    "\n",
    "            try:\n",
    "                gen,eth = get_gender(name)\n",
    "            except:\n",
    "                print(name)\n",
    "            f.write(\"{}\\t{}\\t{}\\n\".format(name,gen,eth))\n",
    "\n",
    "    "
   ]
  },
  {
   "cell_type": "code",
   "execution_count": 8,
   "metadata": {},
   "outputs": [],
   "source": [
    "authors = pd.read_csv(\"./data/authors.tsv\",sep=\"\\t\")\n",
    "authors = authors.loc[authors[\"corr\"]==1]"
   ]
  },
  {
   "cell_type": "code",
   "execution_count": null,
   "metadata": {},
   "outputs": [
    {
     "name": "stdout",
     "output_type": "stream",
     "text": [
      "0.00-0.69-1.39-2.08-2.77-3.47-4.16-4.85-5.55-6.24-6.93-7.63-8.32-9.01-9.71-10.40-11.10-11.79-12.48-13.18-13.87-14.56-15.26-15.95-16.64-17.34-18.03-18.72-19.42-20.11-20.80-21.50-22.19-22.88-23.58-24.27-24.96-25.66-26.35-27.04-27.74-28.43-29.12-29.82-30.51-31.21-31.90-32.59-33.29-33.98-34.67-35.37-36.06-36.75-37.45-"
     ]
    }
   ],
   "source": [
    "gender_main(authors,\"./data/gender_corr.tsv\")"
   ]
  },
  {
   "cell_type": "code",
   "execution_count": null,
   "metadata": {},
   "outputs": [],
   "source": [
    "print(\"d\")"
   ]
  }
 ],
 "metadata": {
  "anaconda-cloud": {},
  "kernelspec": {
   "display_name": "Python [conda env:anaconda3]",
   "language": "python",
   "name": "conda-env-anaconda3-py"
  },
  "language_info": {
   "codemirror_mode": {
    "name": "ipython",
    "version": 3
   },
   "file_extension": ".py",
   "mimetype": "text/x-python",
   "name": "python",
   "nbconvert_exporter": "python",
   "pygments_lexer": "ipython3",
   "version": "3.5.4"
  }
 },
 "nbformat": 4,
 "nbformat_minor": 1
}
