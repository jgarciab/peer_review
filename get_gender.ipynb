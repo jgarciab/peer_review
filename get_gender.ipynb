{
 "cells": [
  {
   "cell_type": "code",
   "execution_count": 1,
   "metadata": {
    "collapsed": true
   },
   "outputs": [],
   "source": [
    "import pandas as pd\n",
    "import time\n",
    "import requests\n",
    "import json"
   ]
  },
  {
   "cell_type": "code",
   "execution_count": 2,
   "metadata": {
    "collapsed": true
   },
   "outputs": [],
   "source": [
    "def get_gender(name):\n",
    "    last,first,*_ = name.split(\" ::: \")\n",
    "    path = \"http://abel.lis.illinois.edu/cgi-bin/ethnea/search.py?Fname={0}&Lname={1}&format=json\".format(first, last)\n",
    "    r = requests.get(path)\n",
    "    text = r.text.strip().replace('\\'', '\"')\n",
    "    x = json.loads(text)\n",
    "    gender,ethnic = x['Genni'],x[\"Ethnea\"]\n",
    "    \n",
    "    #for testing\n",
    "    #print(\"{0} {1}\".format(first,last), end=\" --> \")\n",
    "    #print(\"empirical: {0}\".format(empirical))\n",
    "    \n",
    "    return gender,ethnic"
   ]
  },
  {
   "cell_type": "code",
   "execution_count": 6,
   "metadata": {
    "collapsed": true
   },
   "outputs": [],
   "source": [
    "def gender_main(names,fname):\n",
    "    i = 0\n",
    "    with open(fname,\"a+\") as f:\n",
    "        for name in names:\n",
    "            if ((i%100) == 0):\n",
    "                print(\"{:2.2f}\".format(i/len(names)*100),end = \"-\")\n",
    "                \n",
    "            try:\n",
    "                gen,eth = get_gender(name)\n",
    "            except:\n",
    "                print(name)\n",
    "            f.write(\"{}\\t{}\\t{}\\n\".format(name,gen,eth))\n",
    "            i += 1\n",
    "                \n"
   ]
  },
  {
   "cell_type": "code",
   "execution_count": 7,
   "metadata": {
    "collapsed": true
   },
   "outputs": [],
   "source": [
    "authors = pd.read_csv(\"./data/authors.tsv\",sep=\"\\t\")\n",
    "authors = authors.loc[authors[\"corr\"]==1]"
   ]
  },
  {
   "cell_type": "code",
   "execution_count": 8,
   "metadata": {
    "collapsed": true
   },
   "outputs": [],
   "source": [
    "#read editor gender\n",
    "editors = set(pd.read_csv(\"data/editors_gender.tsv\",sep=\"\\t\")[\"name\"])\n",
    "#read gender_corr\n",
    "ethnicity = set(pd.read_csv(\"data/gender_corr.tsv\",sep=\"\\t\",header=None,names=[\"name\",\"gender\",\"eth\"])[\"name\"])\n",
    "#Get rest of names\n",
    "already_names = editors | ethnicity\n",
    "\n",
    "unique_names = list(set(authors[\"name\"]) - already_names)"
   ]
  },
  {
   "cell_type": "code",
   "execution_count": null,
   "metadata": {
    "collapsed": false
   },
   "outputs": [
    {
     "name": "stdout",
     "output_type": "stream",
     "text": [
      "0.00-0.32-Sinha ::: Animesh A.\n",
      "0.65-0.97-1.29-1.61-1.94-2.26-2.58-2.91-3.23-3.55-3.87-4.20-4.52-4.84-5.16-5.49-5.81-6.13-6.46-6.78-7.10-7.42-7.75-8.07-8.39-8.72-9.04-9.36-9.68-10.01-10.33-10.65-10.98-11.30-11.62-Kong ::: Feng-Ming\n",
      "Myers ::: Edith M.\n",
      "Latham ::: Michael P.\n",
      "Liu ::: Fengyun\n",
      "Deng ::: Youcai\n"
     ]
    }
   ],
   "source": [
    "gender_main(unique_names,\"./data/gender_corr.tsv\")"
   ]
  },
  {
   "cell_type": "code",
   "execution_count": null,
   "metadata": {
    "collapsed": true
   },
   "outputs": [],
   "source": [
    "print(\"d\")"
   ]
  }
 ],
 "metadata": {
  "anaconda-cloud": {},
  "kernelspec": {
   "display_name": "Python [conda env:anaconda3]",
   "language": "python",
   "name": "conda-env-anaconda3-py"
  },
  "language_info": {
   "codemirror_mode": {
    "name": "ipython",
    "version": 3
   },
   "file_extension": ".py",
   "mimetype": "text/x-python",
   "name": "python",
   "nbconvert_exporter": "python",
   "pygments_lexer": "ipython3",
   "version": "3.5.2"
  }
 },
 "nbformat": 4,
 "nbformat_minor": 1
}
